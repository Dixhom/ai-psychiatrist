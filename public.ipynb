{
 "cells": [
  {
   "cell_type": "code",
   "execution_count": 2,
   "metadata": {},
   "outputs": [],
   "source": [
    "import json\n",
    "import pandas as pd"
   ]
  },
  {
   "cell_type": "markdown",
   "metadata": {},
   "source": [
    "# Openaiキーの設定"
   ]
  },
  {
   "cell_type": "code",
   "execution_count": 3,
   "metadata": {},
   "outputs": [],
   "source": [
    "def get_openai_apikey():\n",
    "    \"\"\"get openai api key\"\"\"\n",
    "    # パスは適宜読み替えて下さい\n",
    "    path = r'F:\\secrets\\openai_apikey.txt'\n",
    "    if os.path.exists(path): # localhost\n",
    "        with open(path, 'r') as f:\n",
    "            return f.read().replace('\\n', '')\n",
    "    else:\n",
    "        raise Exception('no key file!')\n",
    "    \n",
    "import os\n",
    "import openai\n",
    "\n",
    "os.environ[\"OPENAI_API_KEY\"] = get_openai_apikey()"
   ]
  },
  {
   "cell_type": "code",
   "execution_count": null,
   "metadata": {},
   "outputs": [],
   "source": [
    "# パスは適宜読み替えて下さい\n",
    "df = pd.read_csv('./data/pqa.csv', encoding='utf-8-sig')"
   ]
  },
  {
   "cell_type": "markdown",
   "metadata": {},
   "source": [
    "# データの準備"
   ]
  },
  {
   "cell_type": "code",
   "execution_count": 9,
   "metadata": {},
   "outputs": [],
   "source": [
    "def n_token(s):\n",
    "    # 文字数からトークン数を推定\n",
    "    # 数式の根拠は失念\n",
    "    return 1.35049 * len(s) + 2.92158\n",
    "\n",
    "df['ntokenq'] = df.q.apply(n_token)\n",
    "df['ntokena'] = df.a.apply(n_token)\n",
    "\n",
    "# question ,answerともにtoken 2000未満のレコード\n",
    "dff = df[(df.ntokenq < 2000) & (df.ntokena < 2000)]"
   ]
  },
  {
   "cell_type": "code",
   "execution_count": 36,
   "metadata": {},
   "outputs": [],
   "source": [
    "# 重複削除\n",
    "dff = dff.drop_duplicates(subset='q').drop_duplicates(subset='a')"
   ]
  },
  {
   "cell_type": "code",
   "execution_count": null,
   "metadata": {},
   "outputs": [],
   "source": [
    "# データの準備（jsonl）\n",
    "# Data Formattingは以下参照\n",
    "# https://platform.openai.com/docs/guides/fine-tuning/data-formatting\n",
    "df_jsonl = pd.DataFrame({'prompt': dff.q + '\\n\\n###\\n\\n', 'completion': ' ' + dff.a + '###'})\n",
    "df_jsonl.to_json('./data/qas.jsonl', orient='records', force_ascii=False, lines=True)"
   ]
  },
  {
   "cell_type": "code",
   "execution_count": 38,
   "metadata": {},
   "outputs": [
    {
     "name": "stdout",
     "output_type": "stream",
     "text": [
      "Analyzing...\n",
      "\n",
      "- Your file contains 4509 prompt-completion pairs\n",
      "- All prompts end with suffix `\\n\\n###\\n\\n`\n",
      "- All completions end with suffix `###`\n",
      "\n",
      "No remediations found.\n",
      "\n",
      "You can use your file for fine-tuning:\n",
      "> openai api fine_tunes.create -t \"./data/qas_prepared_revised.jsonl\"\n",
      "\n",
      "After you’ve fine-tuned a model, remember that your prompt has to end with the indicator string `\\n\\n###\\n\\n` for the model to start generating completions, rather than continuing with the prompt. Make sure to include `stop=[\"###\"]` so that the generated texts ends at the expected place.\n",
      "Once your model starts training, it'll approximately take 1.07 hours to train a `curie` model, and less for `ada` and `babbage`. Queue will approximately take half an hour per job ahead of you.\n"
     ]
    }
   ],
   "source": [
    "# データのアップロード\n",
    "!openai tools fine_tunes.prepare_data -f ./data/qas.jsonl -q"
   ]
  },
  {
   "cell_type": "code",
   "execution_count": null,
   "metadata": {},
   "outputs": [],
   "source": [
    "!openai api fine_tunes.create -t \"./data/qas.jsonl\""
   ]
  },
  {
   "cell_type": "code",
   "execution_count": 4,
   "metadata": {},
   "outputs": [],
   "source": [
    "def get_answer(q):\n",
    "    ft_model = 'ada:ft-personal-2023-05-17-23-33-01'\n",
    "    res = openai.Completion.create(\n",
    "        model=ft_model, \n",
    "        prompt=q + '\\n\\n###\\n\\n', \n",
    "        max_tokens=1000,\n",
    "        temperature=0.8,\n",
    "        stop='###')\n",
    "    a = res['choices'][0]['text']\n",
    "    return a"
   ]
  },
  {
   "cell_type": "code",
   "execution_count": 3,
   "metadata": {},
   "outputs": [
    {
     "name": "stdout",
     "output_type": "stream",
     "text": [
      "28歳の男性です。高校までは明るく友人も多かったのですが、大学に進学した後、どことなく不安な感じが出現して休学しました。説明が難しいのですが、世界が不気味に変容して襲いかかってくる感じがしました。\n",
      "\n",
      "その後、テレビを点けると出演者が突然ぎこちない話し方をします。おそらく、僕がテレビをONするとそれがスタジオに伝わる仕掛けになっているのだと思います。出演者に見られて笑われている気もします。\n",
      "\n",
      "外出するとスパイのような人たちがうろうろしていて、自分を殺そうとしているのではないかと思いました。道を歩いていると通行人がすれ違いざまに「ばか」「消えろ」と悪口を言ってきます。夜部屋の明かりを点けると、それに合わせてお隣さんも照明を点けます。\n",
      "\n",
      "最近気づいたことですが部屋に無数の盗聴器や監視カメラが仕掛けられています。常に見られている感覚がします。業者を呼んで取り除いてもらおうか考えています。\n",
      "\n",
      "私は病気でしょうか。\n",
      "------------------------------\n",
      " 解離性障害か、統合失調症でしょう。精神科を受診してください。\n"
     ]
    }
   ],
   "source": [
    "q = '''28歳の男性です。高校までは明るく友人も多かったのですが、大学に進学した後、どことなく不安な感じが出現して休学しました。説明が難しいのですが、世界が不気味に変容して襲いかかってくる感じがしました。\n",
    "\n",
    "その後、テレビを点けると出演者が突然ぎこちない話し方をします。おそらく、僕がテレビをONするとそれがスタジオに伝わる仕掛けになっているのだと思います。出演者に見られて笑われている気もします。\n",
    "\n",
    "外出するとスパイのような人たちがうろうろしていて、自分を殺そうとしているのではないかと思いました。道を歩いていると通行人がすれ違いざまに「ばか」「消えろ」と悪口を言ってきます。夜部屋の明かりを点けると、それに合わせてお隣さんも照明を点けます。\n",
    "\n",
    "最近気づいたことですが部屋に無数の盗聴器や監視カメラが仕掛けられています。常に見られている感覚がします。業者を呼んで取り除いてもらおうか考えています。\n",
    "\n",
    "私は病気でしょうか。'''\n",
    "\n",
    "\n",
    "print(q)\n",
    "a = get_answer(q)\n",
    "print('-' * 30)\n",
    "print(a)"
   ]
  },
  {
   "cell_type": "code",
   "execution_count": null,
   "metadata": {},
   "outputs": [
    {
     "name": "stdout",
     "output_type": "stream",
     "text": [
      "30代男性です。前から調子がおかしく、「自分は素晴らしい人物だ」「皆が自分を称賛すべきだ」という考えに囚われることがあります。\n",
      "\n",
      "また、浪費癖が時々出てしまい、ブランド物を衝動的に買い漁って後で後悔することがあります。お金を使いすぎて数百万借金しました。\n",
      "その借金も返せなくなり、最終的に自己破産しました。\n",
      "\n",
      "途端に気分が優れなくなり、一日中寝ているようになりました。食欲が減り、体重が15kg減りました。思考もまとまらず、意欲がどうしても湧きません。\n",
      "\n",
      "私は病気でしょうか？\n",
      "\n",
      "------------------------------\n",
      " [quote]前から調子がおかしく、「自分は素晴らしい人物だ」「皆が自分を称賛すべきだ」という考えに囚われることがあります。[/quote]\n",
      "\n",
      "      あります。統合失調症でしょう。「昔は素晴らしい人物が自分だった」と考えてしまうそこで、回復に向かうのは非常に難しいところです。\n",
      "\n",
      "[quote]途端に気分が優れなくなり、一日中寝ているようになりました。食欲が減り、体重が15kg減りました。思考もまとまらず、意欲がどうしても湧きません。[/quote]\n",
      "\n",
      "      このような状態では、慎重にこのようにお考えになることは稀で、統合失調症の良い時期には少なからず誤りが出てきます。結果として今の状態は、それが悪いと悪いというよりも、悪いと悪いという方がよくあることです。\n",
      "\n",
      "[quote]私は病気でしょうか？[/quote]\n",
      "\n",
      "      そうです、病気です。精神科を受診してください。そうすれば今の苦しさは解消に向かうと思います。\n",
      "\n",
      "\n",
      "\n"
     ]
    }
   ],
   "source": [
    "q = '''30代男性です。前から調子がおかしく、「自分は素晴らしい人物だ」「皆が自分を称賛すべきだ」という考えに囚われることがあります。\n",
    "\n",
    "また、浪費癖が時々出てしまい、ブランド物を衝動的に買い漁って後で後悔することがあります。お金を使いすぎて数百万借金しました。\n",
    "その借金も返せなくなり、最終的に自己破産しました。\n",
    "\n",
    "途端に気分が優れなくなり、一日中寝ているようになりました。食欲が減り、体重が15kg減りました。思考もまとまらず、意欲がどうしても湧きません。\n",
    "\n",
    "私は病気でしょうか？\n",
    "'''\n",
    "\n",
    "print(q)\n",
    "a = get_answer(q)\n",
    "print('-' * 30)\n",
    "print(a)"
   ]
  },
  {
   "cell_type": "code",
   "execution_count": 5,
   "metadata": {},
   "outputs": [
    {
     "name": "stdout",
     "output_type": "stream",
     "text": [
      "40代女性です。悲しい気分が止まりません。自分は価値のない人間だと思います。\n",
      "5階の窓から外を見下ろして「死にたい」と感じます。気分の落ち込みや、不安感、対人恐怖に苦しんでいます。夜もよく眠れません。\n",
      "私は何病でしょうか？\n",
      "\n",
      "------------------------------\n",
      " 病気かもしれないと思います。普通は夜無く、経過が曖昧ですが、病気だった場合、夜に出ることがありえます。その場合は死にたいと感じることがあります。精神科を受診してください。\n"
     ]
    }
   ],
   "source": [
    "q = '''40代女性です。悲しい気分が止まりません。自分は価値のない人間だと思います。\n",
    "5階の窓から外を見下ろして「死にたい」と感じます。気分の落ち込みや、不安感、対人恐怖に苦しんでいます。夜もよく眠れません。\n",
    "私は何病でしょうか？\n",
    "'''\n",
    "\n",
    "print(q)\n",
    "a = get_answer(q)\n",
    "print('-' * 30)\n",
    "print(a)"
   ]
  },
  {
   "cell_type": "code",
   "execution_count": 6,
   "metadata": {},
   "outputs": [
    {
     "name": "stdout",
     "output_type": "stream",
     "text": [
      "20代女性です。人の顔が全く覚えられません。どんなに人の顔の特徴を覚えようとしてもだめです。\n",
      "顔そのものはうまく覚えられないため、声や髪型、ほくろや眼鏡などで見分けています。\n",
      "先日も、よく知っている人に声をかけられたのに誰だか分からずに失礼な対応をしてしまいました。\n",
      "ドラマや映画も、登場人物の区別がつかずにあまり楽しめません。\n",
      "私は病気なのでしょうか？\n",
      "\n",
      "------------------------------\n",
      " 病気でしょう。そして、顔は病気ではないからです。どんな病気にも人根は信用できることです。\n",
      "病気かどうかはわかりませんが、うれしいものです。顔は自然に消えていくことによって病気が徐々に消がされるようになります。そうすればどんな病気にも人根は信用できることが大切になります。\n",
      "精神科を受診してください。\n",
      "精神科で治療を受ければ今の悩みは解消に向かうのですが、それは顔の人根がない人根であることは、質問者心のことです。\n",
      "この症状を本人も悩んでおられる方はすべています。\n",
      "精神科を受診してください。\n"
     ]
    }
   ],
   "source": [
    "q = '''20代女性です。人の顔が全く覚えられません。どんなに人の顔の特徴を覚えようとしてもだめです。\n",
    "顔そのものはうまく覚えられないため、声や髪型、ほくろや眼鏡などで見分けています。\n",
    "先日も、よく知っている人に声をかけられたのに誰だか分からずに失礼な対応をしてしまいました。\n",
    "ドラマや映画も、登場人物の区別がつかずにあまり楽しめません。\n",
    "私は病気なのでしょうか？\n",
    "'''\n",
    "\n",
    "print(q)\n",
    "a = get_answer(q)\n",
    "print('-' * 30)\n",
    "print(a)"
   ]
  },
  {
   "cell_type": "code",
   "execution_count": null,
   "metadata": {},
   "outputs": [],
   "source": []
  }
 ],
 "metadata": {
  "kernelspec": {
   "display_name": "base",
   "language": "python",
   "name": "python3"
  },
  "language_info": {
   "codemirror_mode": {
    "name": "ipython",
    "version": 3
   },
   "file_extension": ".py",
   "mimetype": "text/x-python",
   "name": "python",
   "nbconvert_exporter": "python",
   "pygments_lexer": "ipython3",
   "version": "3.9.13"
  },
  "orig_nbformat": 4,
  "vscode": {
   "interpreter": {
    "hash": "3ccf15c8fe378950fb5032e67431b8a03c54196b85c22e93a93c9b5a4366e198"
   }
  }
 },
 "nbformat": 4,
 "nbformat_minor": 2
}
